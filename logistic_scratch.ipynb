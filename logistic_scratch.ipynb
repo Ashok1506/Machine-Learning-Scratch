{
  "nbformat": 4,
  "nbformat_minor": 0,
  "metadata": {
    "colab": {
      "provenance": [],
      "authorship_tag": "ABX9TyMwIdYmBcrZo+dcNWAjhw1r",
      "include_colab_link": true
    },
    "kernelspec": {
      "name": "python3",
      "display_name": "Python 3"
    },
    "language_info": {
      "name": "python"
    }
  },
  "cells": [
    {
      "cell_type": "markdown",
      "metadata": {
        "id": "view-in-github",
        "colab_type": "text"
      },
      "source": [
        "<a href=\"https://colab.research.google.com/github/Ashok1506/Machine-Learning-Scratch/blob/main/logistic_scratch.ipynb\" target=\"_parent\"><img src=\"https://colab.research.google.com/assets/colab-badge.svg\" alt=\"Open In Colab\"/></a>"
      ]
    },
    {
      "cell_type": "code",
      "execution_count": null,
      "metadata": {
        "id": "6P0GZG4CJf0p"
      },
      "outputs": [],
      "source": [
        "import numpy as np\n",
        "import matplotlib.pyplot as plt"
      ]
    },
    {
      "cell_type": "code",
      "source": [
        "x=np.array([1,2,3,4,5,6,7,8])\n",
        "y=np.array([0,0,0,0,1,1,1,1])"
      ],
      "metadata": {
        "id": "tpN7HKWuJmYJ"
      },
      "execution_count": null,
      "outputs": []
    },
    {
      "cell_type": "code",
      "source": [
        "def sigmoid(z):\n",
        "  return 1/(1+np.exp(-z))"
      ],
      "metadata": {
        "id": "SLCAnV0hJz8s"
      },
      "execution_count": null,
      "outputs": []
    },
    {
      "cell_type": "code",
      "source": [
        "x=np.column_stack((np.ones(x.shape[0]),x))"
      ],
      "metadata": {
        "id": "bRLSdu2FKpH9"
      },
      "execution_count": null,
      "outputs": []
    },
    {
      "cell_type": "code",
      "source": [
        "x"
      ],
      "metadata": {
        "colab": {
          "base_uri": "https://localhost:8080/"
        },
        "id": "u1RnJFYIKzhI",
        "outputId": "cf241b89-8a19-4a52-8387-03633c0918e7"
      },
      "execution_count": null,
      "outputs": [
        {
          "output_type": "execute_result",
          "data": {
            "text/plain": [
              "array([[1., 1.],\n",
              "       [1., 2.],\n",
              "       [1., 3.],\n",
              "       [1., 4.],\n",
              "       [1., 5.],\n",
              "       [1., 6.],\n",
              "       [1., 7.],\n",
              "       [1., 8.]])"
            ]
          },
          "metadata": {},
          "execution_count": 67
        }
      ]
    },
    {
      "cell_type": "code",
      "source": [
        "features=x.shape[1]\n",
        "para=np.zeros(features)"
      ],
      "metadata": {
        "id": "qlVyClC_LBPH"
      },
      "execution_count": null,
      "outputs": []
    },
    {
      "cell_type": "code",
      "source": [
        "learning_rate=3\n",
        "num_iteration=10000"
      ],
      "metadata": {
        "id": "rVCM9xL3LMcA"
      },
      "execution_count": null,
      "outputs": []
    },
    {
      "cell_type": "code",
      "source": [
        "for _ in range(num_iteration):\n",
        "  z=np.dot(x,para)\n",
        "  y_pred=sigmoid(z)\n",
        "  gradient=np.dot(x.T,(y_pred-y))/len(y)\n",
        "  para-=learning_rate*gradient"
      ],
      "metadata": {
        "id": "24IHbLtVLjuC"
      },
      "execution_count": null,
      "outputs": []
    },
    {
      "cell_type": "code",
      "source": [
        "x_range=np.linspace(x[:,1].min()-1,x[:,1].max()+1,100)\n",
        "y_range=sigmoid(para[0]+para[1]*x_range)"
      ],
      "metadata": {
        "id": "ikyTBSoLMWF4"
      },
      "execution_count": null,
      "outputs": []
    },
    {
      "cell_type": "code",
      "source": [
        "plt.plot(x_range,y_range,label=\"lagoistic regression\",color=\"green\")\n",
        "plt.scatter(x[y==0][:,1],y[y==0],label=\"class 0\",color=\"blue\")\n",
        "plt.scatter(x[y==1][:,1],y[y==1],label=\"class1 \" ,color =\"green\")\n",
        "plt.show()"
      ],
      "metadata": {
        "colab": {
          "base_uri": "https://localhost:8080/",
          "height": 430
        },
        "id": "dd5l6wNzN1ww",
        "outputId": "1e50410e-da11-4b73-d100-bb8b1e52a313"
      },
      "execution_count": null,
      "outputs": [
        {
          "output_type": "display_data",
          "data": {
            "text/plain": [
              "<Figure size 640x480 with 1 Axes>"
            ],
            "image/png": "[encoded data removed]"
          },
          "metadata": {}
        }
      ]
    },
    {
      "cell_type": "code",
      "source": [],
      "metadata": {
        "id": "c57M2A60O_hR"
      },
      "execution_count": null,
      "outputs": []
    }
  ]
}
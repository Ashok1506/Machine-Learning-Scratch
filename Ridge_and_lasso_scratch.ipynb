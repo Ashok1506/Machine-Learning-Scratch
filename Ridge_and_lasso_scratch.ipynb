{
  "nbformat": 4,
  "nbformat_minor": 0,
  "metadata": {
    "colab": {
      "provenance": [],
      "include_colab_link": true
    },
    "kernelspec": {
      "name": "python3",
      "display_name": "Python 3"
    },
    "language_info": {
      "name": "python"
    }
  },
  "cells": [
    {
      "cell_type": "markdown",
      "metadata": {
        "id": "view-in-github",
        "colab_type": "text"
      },
      "source": [
        "<a href=\"https://colab.research.google.com/github/Ashok1506/Machine-Learning-Scratch/blob/main/Ridge_and_lasso_scratch.ipynb\" target=\"_parent\"><img src=\"https://colab.research.google.com/assets/colab-badge.svg\" alt=\"Open In Colab\"/></a>"
      ]
    },
    {
      "cell_type": "code",
      "execution_count": null,
      "metadata": {
        "id": "aG4vmLUV_Dwh"
      },
      "outputs": [],
      "source": [
        "import numpy as np\n",
        "import pandas as pd\n"
      ]
    },
    {
      "cell_type": "code",
      "source": [
        "x=np.array([1,2,3,4,5])\n",
        "y=np.array([2.1,3.8,6.5,9.2,11.3])\n",
        "y"
      ],
      "metadata": {
        "colab": {
          "base_uri": "https://localhost:8080/"
        },
        "id": "dGMvKYzP_WyT",
        "outputId": "c4b731a4-8839-4dce-fffe-36204918d344"
      },
      "execution_count": null,
      "outputs": [
        {
          "output_type": "execute_result",
          "data": {
            "text/plain": [
              "array([ 2.1,  3.8,  6.5,  9.2, 11.3])"
            ]
          },
          "metadata": {},
          "execution_count": 2
        }
      ]
    },
    {
      "cell_type": "code",
      "source": [
        "x_b=np.c_[np.ones((x.shape[0],1)),x]\n",
        "x_b"
      ],
      "metadata": {
        "colab": {
          "base_uri": "https://localhost:8080/"
        },
        "id": "HYfkLzig_XJl",
        "outputId": "0c6ea2f4-c2f6-4be2-dd47-97fc042faf4f"
      },
      "execution_count": null,
      "outputs": [
        {
          "output_type": "execute_result",
          "data": {
            "text/plain": [
              "array([[1., 1.],\n",
              "       [1., 2.],\n",
              "       [1., 3.],\n",
              "       [1., 4.],\n",
              "       [1., 5.]])"
            ]
          },
          "metadata": {},
          "execution_count": 6
        }
      ]
    },
    {
      "cell_type": "code",
      "source": [
        "alpha_ridge=1.0\n",
        "alpha_lasso=0.1\n",
        "iterates=1000\n",
        "learn=0.01"
      ],
      "metadata": {
        "id": "lbIwW8uZ_ntE"
      },
      "execution_count": null,
      "outputs": []
    },
    {
      "cell_type": "code",
      "source": [
        "def lasso (x,y,alpha,iterates,learn):\n",
        "  m,n=x.shape\n",
        "  theta=np.zeros(n)\n",
        "  for _ in range(iterates):\n",
        "    y_pred=x.dot(theta)\n",
        "    gradient=(x.T.dot(y_pred-y)+alpha*np.sign(theta))/m\n",
        "    theta -=learn*gradient\n",
        "  return theta\n",
        "lasso=lasso(x_b,y,alpha_lasso,iterates,learn)\n",
        "lasso"
      ],
      "metadata": {
        "colab": {
          "base_uri": "https://localhost:8080/"
        },
        "id": "deEn-oaS_8E-",
        "outputId": "700197b3-d797-4f9c-aa9b-0fe08191525c"
      },
      "execution_count": null,
      "outputs": [
        {
          "output_type": "execute_result",
          "data": {
            "text/plain": [
              "array([-0.27352287,  2.29942818])"
            ]
          },
          "metadata": {},
          "execution_count": 17
        }
      ]
    },
    {
      "cell_type": "code",
      "source": [
        "def ridge (x,y,alpha,iterates,learn):\n",
        "  m,n=x.shape\n",
        "  theta=np.zeros(n)\n",
        "  for _ in range(iterates):\n",
        "    y_pred=x.dot(theta)\n",
        "    gradient=(x.T.dot(y_pred-y)+alpha*theta)/m\n",
        "    theta -=learn*gradient\n",
        "  return theta\n",
        "ridge=ridge(x_b,y,alpha_ridge,iterates,learn)\n",
        "ridge"
      ],
      "metadata": {
        "colab": {
          "base_uri": "https://localhost:8080/"
        },
        "id": "sW3GCiK5BaPs",
        "outputId": "fb144988-5409-474d-f422-f953579a81a6"
      },
      "execution_count": null,
      "outputs": [
        {
          "output_type": "execute_result",
          "data": {
            "text/plain": [
              "array([0.05700254, 2.17211411])"
            ]
          },
          "metadata": {},
          "execution_count": 19
        }
      ]
    },
    {
      "cell_type": "code",
      "source": [
        "import matplotlib.pyplot as plt\n",
        "\n",
        "plt.scatter(x,y,label=\"data\")\n",
        "plt.plot(x,x_b.dot(lasso),label=f'ridge l2 regression',color=\"red\")\n",
        "plt.plot(x,x_b.dot(ridge),label=f'ridge l2 regression',color=\"red\")\n",
        "plt.show()"
      ],
      "metadata": {
        "colab": {
          "base_uri": "https://localhost:8080/",
          "height": 430
        },
        "id": "pymrTTM4B5Pg",
        "outputId": "62da5765-dbd7-4206-af53-0e5f04882929"
      },
      "execution_count": null,
      "outputs": [
        {
          "output_type": "display_data",
          "data": {
            "text/plain": [
              "<Figure size 640x480 with 1 Axes>"
            ],
            "image/png": "[encoded data removed]"
          },
          "metadata": {}
        }
      ]
    },
    {
      "cell_type": "code",
      "source": [],
      "metadata": {
        "id": "1UVlGk4cEvXy"
      },
      "execution_count": null,
      "outputs": []
    }
  ]
}